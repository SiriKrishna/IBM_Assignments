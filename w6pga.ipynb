{
  "metadata": {
    "kernelspec": {
      "name": "python",
      "display_name": "Python (Pyodide)",
      "language": "python"
    },
    "language_info": {
      "codemirror_mode": {
        "name": "python",
        "version": 3
      },
      "file_extension": ".py",
      "mimetype": "text/x-python",
      "name": "python",
      "nbconvert_exporter": "python",
      "pygments_lexer": "ipython3",
      "version": "3.8"
    }
  },
  "nbformat_minor": 4,
  "nbformat": 4,
  "cells": [
    {
      "cell_type": "markdown",
      "source": "# My Data Science Journey Notebook\n",
      "metadata": {}
    },
    {
      "cell_type": "markdown",
      "source": "## Introduction\r\n\r\nWelcome to my Data Science Journey notebook! In this notebook, I'll explore various data science concepts and demonstrate some essential skills using Jupyterlite Notebook.\r\n",
      "metadata": {}
    },
    {
      "cell_type": "markdown",
      "source": "## Data Science Languages\r\n\r\n- Python\r\n- R\r\n- Julia\r\n",
      "metadata": {}
    },
    {
      "cell_type": "markdown",
      "source": "## Data Science Libraries\r\n\r\n- Pandas\r\n- NumPy\r\n- Scikit-learn\r\n- Matplotlib\r\n- Seaborn\r\n",
      "metadata": {}
    },
    {
      "cell_type": "markdown",
      "source": "## Data Science Tools\r\n\r\n| Tool          | Description                           |\r\n| ------------- | ------------------------------------- |\r\n| Jupyter Notebook | Interactive computing environment    |\r\n| RStudio       | IDE for R programming                  |\r\n| VSCode        | General-purpose code editor            |\r\n| Git           | Version control system                 |\r\n",
      "metadata": {}
    },
    {
      "cell_type": "markdown",
      "source": "## Arithmetic Expression Examples\r\n\r\nIn this section, I'll showcase some basic arithmetic expressions.\r\n\r\n",
      "metadata": {}
    },
    {
      "cell_type": "code",
      "source": "# Code Cell for Multiplication and Addition\r\na = 5\r\nb = 3\r\n\r\n# Multiplication\r\nresult_multiply = a * b\r\nprint(f\"Multiplication Result: {result_multiply}\")\r\n\r\n# Addition\r\nresult_addition = a + b\r\nprint(f\"Addition Result: {result_addition}\")\r\n",
      "metadata": {
        "trusted": true
      },
      "outputs": [
        {
          "name": "stdout",
          "text": "Multiplication Result: 15\nAddition Result: 8\n",
          "output_type": "stream"
        }
      ],
      "execution_count": 2
    },
    {
      "cell_type": "code",
      "source": "# Code Cell for Minutes to Hours Conversion\nminutes = 120\n\n# Conversion\nhours = minutes / 60\nprint(f\"{minutes} minutes is equal to {hours} hours.\")\n",
      "metadata": {
        "trusted": true
      },
      "outputs": [
        {
          "name": "stdout",
          "text": "120 minutes is equal to 2.0 hours.\n",
          "output_type": "stream"
        }
      ],
      "execution_count": 3
    },
    {
      "cell_type": "markdown",
      "source": "## Objectives\r\n\r\n- Explore fundamental data science concepts.\r\n- Demonstrate proficiency in using Jupyterlite Notebook.\r\n- Showcase knowledge of essential data science languages and tools.\r\n",
      "metadata": {}
    },
    {
      "cell_type": "markdown",
      "source": "## Author\n\n- Sirikrishna Nalluri\n",
      "metadata": {}
    },
    {
      "cell_type": "code",
      "source": "",
      "metadata": {
        "trusted": true
      },
      "outputs": [],
      "execution_count": null
    }
  ]
}